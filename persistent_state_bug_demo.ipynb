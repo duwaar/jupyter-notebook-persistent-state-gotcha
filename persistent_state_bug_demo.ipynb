{
 "cells": [
  {
   "cell_type": "markdown",
   "id": "25a89586-6cbc-4dfa-b672-38b8678ba900",
   "metadata": {},
   "source": [
    "# Persistent State Bug Demo\n",
    "I found what I think is a bug, in which a cell that is refreshed does not newly initialize variables. Instead, the states of variables seem to persist on subsequent executions of the cell so that the manipulations executed are accumulated, not repeated."
   ]
  },
  {
   "cell_type": "markdown",
   "id": "2577aa39-c0ef-491d-99be-7c44adbaeb96",
   "metadata": {},
   "source": [
    "## The Problem: Unexpected Persistent State\n",
    "In the first code cell, a list is created. In the subsequent cell, the list is modified. I would expect both code cells to produce the same output every time, but they do not. Instead, the second code cell below produces a different output every time it is run, because it seems that the state of the data contained in the variable `myData` persists across subequent executions of the second code cell instead of being re-instantiated every time."
   ]
  },
  {
   "cell_type": "code",
   "execution_count": 6,
   "id": "c5583caf-d252-4486-b9ce-f984f74d76ec",
   "metadata": {},
   "outputs": [
    {
     "data": {
      "text/plain": [
       "[1, 2, 3]"
      ]
     },
     "metadata": {},
     "output_type": "display_data"
    }
   ],
   "source": [
    "myData = [1, 2, 3]\n",
    "display(myData)"
   ]
  },
  {
   "cell_type": "code",
   "execution_count": 7,
   "id": "9563b973-efc1-4e8f-ace7-0056ea37392a",
   "metadata": {},
   "outputs": [
    {
     "data": {
      "text/plain": [
       "[1, 2, 3, 1]"
      ]
     },
     "metadata": {},
     "output_type": "display_data"
    }
   ],
   "source": [
    "myData.append(1)\n",
    "display(myData)"
   ]
  },
  {
   "cell_type": "markdown",
   "id": "8c217f3a-5f02-41d7-b244-0d219021de06",
   "metadata": {},
   "source": [
    "## A Workaround: Data Created and Modified in Same Cell\n",
    "A possible workaround for this problem is to simply keep all code that effects one variable in the same code cell--in other words, don't pass data between code cells. In the following code cell, as expected, the same result is produced every time, even after multiple executions."
   ]
  },
  {
   "cell_type": "code",
   "execution_count": 3,
   "id": "6720c3a4-2e34-47e8-b81c-b8d832b0cfa3",
   "metadata": {},
   "outputs": [
    {
     "data": {
      "text/plain": [
       "[1, 2, 3, 1]"
      ]
     },
     "metadata": {},
     "output_type": "display_data"
    }
   ],
   "source": [
    "# This cell produces the same result every time.\n",
    "myData = [1, 2, 3]\n",
    "myData.append(1)\n",
    "display(myData)"
   ]
  },
  {
   "cell_type": "markdown",
   "id": "3d719c9c-2059-4703-8ffa-166fd3cab775",
   "metadata": {},
   "source": [
    "## Discussion\n",
    "One way that I want to use code cells in a Jupyter Notebook is to use them like breakpoints. Every cell contains a little bit of code, and "
   ]
  },
  {
   "cell_type": "code",
   "execution_count": 9,
   "id": "98a8cb4b-177b-4fce-934d-1773f23b3cb4",
   "metadata": {},
   "outputs": [
    {
     "name": "stdout",
     "output_type": "stream",
     "text": [
      "\n",
      "\n",
      "\n",
      "\n",
      "\n",
      "\n",
      "\n",
      "\n",
      "\n",
      "\n",
      "\n",
      "\n",
      "\n",
      "\n",
      "\n",
      "\n",
      "\n",
      "\n",
      "\n",
      "\n",
      "\n",
      "\n",
      "\n",
      "\n",
      "\n",
      "\n",
      "\n",
      "\n",
      "\n",
      "\n",
      "\n",
      "\n",
      "\n",
      "\n",
      "\n",
      "\n",
      "\n",
      "\n",
      "\n",
      "\n",
      "\n",
      "\n",
      "\n",
      "\n",
      "\n",
      "\n",
      "\n",
      "\n",
      "\n",
      "\n",
      "\n",
      "\n",
      "\n",
      "\n",
      "\n",
      "\n",
      "\n",
      "\n",
      "\n",
      "\n",
      "\n",
      "\n",
      "\n",
      "\n",
      "\n",
      "\n",
      "\n",
      "\n",
      "\n",
      "\n",
      "\n",
      "\n",
      "\n",
      "\n",
      "\n",
      "\n",
      "\n",
      "\n",
      "\n",
      "\n",
      "\n",
      "\n",
      "\n",
      "\n",
      "\n",
      "\n",
      "\n",
      "\n",
      "\n",
      "\n",
      "\n",
      "\n",
      "\n",
      "\n",
      "\n",
      "\n",
      "\n",
      "\n",
      "\n",
      "\n",
      "\n"
     ]
    }
   ],
   "source": [
    "# A workaround for a different annoying issue with Jupyter Notebooks.\n",
    "print('\\n' * 100)"
   ]
  }
 ],
 "metadata": {
  "kernelspec": {
   "display_name": "Python 3 (ipykernel)",
   "language": "python",
   "name": "python3"
  },
  "language_info": {
   "codemirror_mode": {
    "name": "ipython",
    "version": 3
   },
   "file_extension": ".py",
   "mimetype": "text/x-python",
   "name": "python",
   "nbconvert_exporter": "python",
   "pygments_lexer": "ipython3",
   "version": "3.11.6"
  }
 },
 "nbformat": 4,
 "nbformat_minor": 5
}
